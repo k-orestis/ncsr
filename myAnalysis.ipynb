{
 "cells": [
  {
   "cell_type": "code",
   "execution_count": 6,
   "metadata": {},
   "outputs": [],
   "source": [
    "import ROOT\n",
    "import uproot\n",
    "from matplotlib import pyplot as plt\n",
    "import numpy as np\n",
    "import pandas as pd\n",
    "import aghast\n",
    "import boost_histogram as bh"
   ]
  },
  {
   "cell_type": "code",
   "execution_count": 2,
   "metadata": {},
   "outputs": [],
   "source": [
    "from uproot.models.TH import Model_TH1D_v3 as TH1D"
   ]
  },
  {
   "cell_type": "code",
   "execution_count": 7,
   "metadata": {},
   "outputs": [
    {
     "name": "stdout",
     "output_type": "stream",
     "text": [
      "===> Analysis Starts ! <===\n"
     ]
    }
   ],
   "source": [
    "#import re\n",
    "file_name = \"a-nu_Mu_CC_all_ARCA6_v6.4_gp_bp_preproc.root\"\n",
    "tempoTwo = file_name.replace('_preproc.root', '')\n",
    "RootOut = \"./histo_processed/histos_\"+ tempoTwo +\".root\"\n",
    "print(\"===> Analysis Starts ! <===\")\n"
   ]
  },
  {
   "cell_type": "code",
   "execution_count": 8,
   "metadata": {},
   "outputs": [],
   "source": [
    "try:\n",
    "    i =  uproot.open(file_name)\n",
    "except FileNotFoundError:\n",
    "    print(\"ERROR: could not open file\")\n",
    "dataTree = i['ProcessedEvents']\n",
    "infoTree = i['QualityParameters']"
   ]
  },
  {
   "cell_type": "code",
   "execution_count": 9,
   "metadata": {},
   "outputs": [],
   "source": [
    "run_number=run_subNumber=num_triggered_hits=pseudo_runid=pseudo_subRunid=num_cherenkov_hits=num_cascade_hits=num_triggered_lines=num_triggered_doms=num_triggered_pmts=num_cherenkov_lines=num_cherenkov_doms=num_cherenkov_pmts=num_cascade_lines=num_cascade_doms=num_cascade_pmts=-1\n",
    "flag_muon_3D=flag_shower_3D=flag_shower_MX=0\n",
    "livetime=pseudo_livetime=evt_id=evt_num=evt_overlays=reco_type=neutrino_type=jbeta0=jbeta0_deg=D=D3d=cos_zen=fi=R=mean_tres_it=zenith=logEreco=Ereco=E_nu=logEreco2=logbeta0=jlik=GNhit=Snpe=SnpeT=Slen=Elen=best_trk_pos_x=best_trk_pos_y=best_trk_pos_z=best_trk_dir_x=best_trk_dir_y=best_trk_dir_z=Q1=Q1new=diffangle=delta_zenith=mu_pos_x=mu_pos_y=mu_pos_z=nu_pos_x=nu_pos_y=nu_pos_z=cos_zen_mu=zenith_mu=logE_mu=logE_nu=logEbundle=logEdepos=bjorken_y=cos_zen_nu=zenith_nu=w1=w3=w3atm=w3iceHESE=w3loi=w3random=w3ice=w3antares=Ntrack_all=Nallbehind=Nallbehind2=Nallbehind3=NtrackIT10=NtrackIT30=NtrackIT=NtrackEarly=NtrackLate=TrLengthIT=TrLengthIT_2=TrLengthIT_3=ratio130=ratio430=ratio330=ratio110=ratio410=ratio310=ratio1=ratio2=ratio3=ratio4=ratio5=ratio6=ratiol=ratiol_trig=ratio4_trig=myratio50_muon=myratio30_muon=myratio50_cascmuon=myratio30_cascmuon=myratio50_casc=myratio30_casc=diff_theta=ratio_closehits_muon=ratio_closehits_cascmuon=ratio_closehits_casc=redToT_muon=redToT_cascmuon=redToT_casc=myratio50_cascmuon_over_mu=myratio30_cascmuon_over_mu=ratio_closehits_cascmuon_over_mu=redToT_cascmuon_over_mu=myratio50_casc_over_mu=myratio30_casc_over_mu=ratio_closehits_casc_over_mu=redToT_casc_over_mu =diff_dist_mu=diff_dist_casc_mu=diff_dist_casc=max_lik_down=max_lik_up=costheta_min=costheta_max=num_of_good_sol=downsol=upsol=nhits_casc=nhits_casc_100=sum_ToT_casc=min_dist_casc=max_dist_casc=nhits_mu=nhits_mu_100=sum_ToT_mu=min_dist_mu=max_dist_mu=nhits_casc_mu=nhits_casc_mu_100=sum_ToT_casc_mu=min_dist_casc_mu=max_dist_casc_mu=min_diff_sollik=max_diff_sollik=min_diff_sol=max_diff_sol=min_zen_sol=max_zen_sol=diffangle_shower_nu=diffangle_shower_mu=delta_zenith_shower_mu=delta_zenith_shower_nu=zenith_shower=beta0_shower=beta0_shower_deg=lik_shower=Nhit_shower=best_trk_pos_shower_x=best_trk_pos_shower_y=best_trk_pos_shower_z=best_trk_dir_shower_x=best_trk_dir_shower_y=best_trk_dir_shower_z=Ereco_shower=Ereco_shower_corrected=logEreco_shower=dlik=normdlik=itoverlen=delta_zenith_track_shower=diffangle_track_shower=ToT_border_mu=ToT_border_casc=ToT_border_cascmu=ToT_trig=max_ToT_trig=ToT_IT=ToT_allIT=Nborder_hits=Nborder_cherenkov_hits=Nborder_dtres_hits=Nborder_DOMs=Nhits_upper=Nhits_lower=Nhits_border_upper=Nhits_border_lower=Nhits_cherenkov_upper=Nhits_cherenkov_lower=Nhits_border_cherenkov_upper=Nhits_border_cherenkov_lower=ratio_cherenkov_lines=ratio_cherenkov_doms=ratio_cherenkov_pmts=ratio_cascade_doms=ratio_cascade_pmts=NtrackIT50=NtrackIT50_2=NtrackIT30_2=NtrackIT10_2=NtrackIT50_3=NtrackIT30_3=NtrackIT10_3=ratio_cherenkov_hits=ratio_cascade_hits=ratio_cascade_lines=-999.9\n",
    "ratio_upper_nhits=ratio_lower_nhits=ratio_border_upper_nhits=ratio_border_lower_nhits=-999.0\n",
    "float_num_triggered_hits=float_num_triggered_lines=float_num_triggered_doms=float_num_triggered_pmts=float_num_cherenkov_hits=float_num_cherenkov_lines=float_num_cherenkov_doms=float_num_cherenkov_pmts=float_num_cascade_hits=float_num_cascade_lines=float_num_cascade_doms=float_num_cascade_pmts=-999.9"
   ]
  },
  {
   "cell_type": "code",
   "execution_count": 10,
   "metadata": {},
   "outputs": [],
   "source": [
    "df =  dataTree['pseudo_runid'].arrays(library='pd')\n",
    "for i in dataTree.keys()[1:]:\n",
    "   df = pd.concat([df, dataTree[i].arrays(library='pd')], axis=1, join='inner')"
   ]
  },
  {
   "cell_type": "code",
   "execution_count": 55,
   "metadata": {},
   "outputs": [
    {
     "data": {
      "text/plain": [
       "array([2, 3, 1, 4, 5, 6, 0], dtype=int32)"
      ]
     },
     "execution_count": 55,
     "metadata": {},
     "output_type": "execute_result"
    }
   ],
   "source": [
    "temp['num_cherenkov_lines'].unique()"
   ]
  },
  {
   "cell_type": "code",
   "execution_count": 43,
   "metadata": {},
   "outputs": [
    {
     "data": {
      "text/plain": [
       "['pseudo_runid',\n",
       " 'pseudo_subRunid',\n",
       " 'pseudo_livetime',\n",
       " 'evt_id',\n",
       " 'evt_num',\n",
       " 'evt_overlays',\n",
       " 'reco_type',\n",
       " 'jbeta0',\n",
       " 'jbeta0_deg',\n",
       " 'D',\n",
       " 'D3d',\n",
       " 'cos_zen',\n",
       " 'fi',\n",
       " 'R',\n",
       " 'mean_tres_it',\n",
       " 'zenith',\n",
       " 'logEreco',\n",
       " 'Ereco',\n",
       " 'E_nu',\n",
       " 'logEreco2',\n",
       " 'logbeta0',\n",
       " 'jlik',\n",
       " 'GNhit',\n",
       " 'Snpe',\n",
       " 'SnpeT',\n",
       " 'Slen',\n",
       " 'Elen',\n",
       " 'best_trk_pos_x',\n",
       " 'best_trk_pos_y',\n",
       " 'best_trk_pos_z',\n",
       " 'best_trk_dir_x',\n",
       " 'best_trk_dir_y',\n",
       " 'best_trk_dir_z',\n",
       " 'Q1',\n",
       " 'Q1new',\n",
       " 'diffangle',\n",
       " 'delta_zenith',\n",
       " 'mu_pos_x',\n",
       " 'mu_pos_y',\n",
       " 'mu_pos_z',\n",
       " 'nu_pos_x',\n",
       " 'nu_pos_y',\n",
       " 'nu_pos_z',\n",
       " 'cos_zen_mu',\n",
       " 'zenith_mu',\n",
       " 'logE_mu',\n",
       " 'logE_nu',\n",
       " 'logEbundle',\n",
       " 'logEdepos',\n",
       " 'bjorken_y',\n",
       " 'cos_zen_nu',\n",
       " 'zenith_nu',\n",
       " 'w3atm',\n",
       " 'w3iceHESE',\n",
       " 'w3loi',\n",
       " 'w3random',\n",
       " 'w3ice',\n",
       " 'w3antares',\n",
       " 'w1',\n",
       " 'w2',\n",
       " 'neutrino_type',\n",
       " 'Ntrack_all',\n",
       " 'Nallbehind',\n",
       " 'Nallbehind2',\n",
       " 'Nallbehind3',\n",
       " 'NtrackIT10',\n",
       " 'NtrackIT30',\n",
       " 'NtrackIT',\n",
       " 'NtrackEarly',\n",
       " 'NtrackLate',\n",
       " 'TrLengthIT',\n",
       " 'TrLengthIT_2',\n",
       " 'TrLengthIT_3',\n",
       " 'ratio130',\n",
       " 'ratio430',\n",
       " 'ratio330',\n",
       " 'ratio110',\n",
       " 'ratio410',\n",
       " 'ratio310',\n",
       " 'ratio1',\n",
       " 'ratio2',\n",
       " 'ratio3',\n",
       " 'ratio4',\n",
       " 'ratio5',\n",
       " 'ratio6',\n",
       " 'ratiol',\n",
       " 'ratiol_trig',\n",
       " 'ratio4_trig',\n",
       " 'myratio50_muon',\n",
       " 'myratio30_muon',\n",
       " 'myratio50_cascmuon',\n",
       " 'myratio30_cascmuon',\n",
       " 'myratio50_casc',\n",
       " 'myratio30_casc',\n",
       " 'myratio50_cascmuon_over_mu',\n",
       " 'myratio30_cascmuon_over_mu',\n",
       " 'myratio50_casc_over_mu',\n",
       " 'myratio30_casc_over_mu',\n",
       " 'redToT_cascmuon_over_mu',\n",
       " 'redToT_casc_over_mu',\n",
       " 'ratio_closehits_cascmuon_over_mu',\n",
       " 'ratio_closehits_casc_over_mu',\n",
       " 'diff_theta',\n",
       " 'ratio_closehits_muon',\n",
       " 'ratio_closehits_cascmuon',\n",
       " 'ratio_closehits_casc',\n",
       " 'redToT_muon',\n",
       " 'redToT_cascmuon',\n",
       " 'redToT_casc',\n",
       " 'diff_dist_mu',\n",
       " 'diff_dist_casc_mu',\n",
       " 'diff_dist_casc',\n",
       " 'max_lik_down',\n",
       " 'max_lik_up',\n",
       " 'costheta_min',\n",
       " 'costheta_max',\n",
       " 'num_of_good_sol',\n",
       " 'downsol',\n",
       " 'upsol',\n",
       " 'nhits_casc',\n",
       " 'nhits_casc_100',\n",
       " 'sum_ToT_casc',\n",
       " 'min_dist_casc',\n",
       " 'max_dist_casc',\n",
       " 'nhits_mu',\n",
       " 'nhits_mu_100',\n",
       " 'sum_ToT_mu',\n",
       " 'min_dist_mu',\n",
       " 'max_dist_mu',\n",
       " 'nhits_casc_mu',\n",
       " 'nhits_casc_mu_100',\n",
       " 'sum_ToT_casc_mu',\n",
       " 'min_dist_casc_mu',\n",
       " 'max_dist_casc_mu',\n",
       " 'min_diff_sollik',\n",
       " 'max_diff_sollik',\n",
       " 'min_diff_sol',\n",
       " 'max_diff_sol',\n",
       " 'min_zen_sol',\n",
       " 'max_zen_sol',\n",
       " 'diffangle_shower_nu',\n",
       " 'diffangle_shower_mu',\n",
       " 'delta_zenith_shower_mu',\n",
       " 'delta_zenith_shower_nu',\n",
       " 'zenith_shower',\n",
       " 'beta0_shower',\n",
       " 'beta0_shower_deg',\n",
       " 'lik_shower',\n",
       " 'Nhit_shower',\n",
       " 'best_trk_pos_shower_x',\n",
       " 'best_trk_pos_shower_y',\n",
       " 'best_trk_pos_shower_z',\n",
       " 'best_trk_dir_shower_x',\n",
       " 'best_trk_dir_shower_y',\n",
       " 'best_trk_dir_shower_z',\n",
       " 'Ereco_shower',\n",
       " 'Ereco_shower_corrected',\n",
       " 'logEreco_shower',\n",
       " 'dlik',\n",
       " 'normdlik',\n",
       " 'itoverlen',\n",
       " 'delta_zenith_track_shower',\n",
       " 'diffangle_track_shower',\n",
       " 'flag_muon_3D',\n",
       " 'flag_shower_3D',\n",
       " 'flag_shower_MX',\n",
       " 'ToT_border_mu',\n",
       " 'ToT_border_casc',\n",
       " 'ToT_border_cascmu',\n",
       " 'ToT_trig',\n",
       " 'max_ToT_trig',\n",
       " 'ToT_IT',\n",
       " 'ToT_allIT',\n",
       " 'Nborder_hits',\n",
       " 'Nborder_cherenkov_hits',\n",
       " 'Nborder_dtres_hits',\n",
       " 'Nborder_DOMs',\n",
       " 'Nhits_upper',\n",
       " 'Nhits_lower',\n",
       " 'Nhits_border_upper',\n",
       " 'Nhits_border_lower',\n",
       " 'Nhits_cherenkov_upper',\n",
       " 'Nhits_cherenkov_lower',\n",
       " 'Nhits_border_cherenkov_upper',\n",
       " 'Nhits_border_cherenkov_lower',\n",
       " 'NtrackIT50',\n",
       " 'NtrackIT50_2',\n",
       " 'NtrackIT30_2',\n",
       " 'NtrackIT10_2',\n",
       " 'NtrackIT50_3',\n",
       " 'NtrackIT30_3',\n",
       " 'NtrackIT10_3',\n",
       " 'num_triggered_hits',\n",
       " 'num_triggered_lines',\n",
       " 'num_triggered_doms',\n",
       " 'num_triggered_pmts',\n",
       " 'num_cherenkov_hits',\n",
       " 'num_cherenkov_lines',\n",
       " 'num_cherenkov_doms',\n",
       " 'num_cherenkov_pmts',\n",
       " 'num_cascade_hits',\n",
       " 'num_cascade_lines',\n",
       " 'num_cascade_doms',\n",
       " 'num_cascade_pmts',\n",
       " 'ratio_cherenkov_hits',\n",
       " 'ratio_cherenkov_lines',\n",
       " 'ratio_cherenkov_doms',\n",
       " 'ratio_cherenkov_pmts',\n",
       " 'ratio_cascade_hits',\n",
       " 'ratio_cascade_lines',\n",
       " 'ratio_cascade_doms',\n",
       " 'ratio_cascade_pmts']"
      ]
     },
     "execution_count": 43,
     "metadata": {},
     "output_type": "execute_result"
    }
   ],
   "source": [
    "dataTree.keys()"
   ]
  },
  {
   "cell_type": "code",
   "execution_count": 13,
   "metadata": {},
   "outputs": [],
   "source": [
    "logEresolution_mu =( df['logEreco'] - df['logE_mu'] ) / df['logE_mu']\n",
    "logEresolution_cor_mu = ( df['logEreco2']- df['logE_mu'] ) / df['logE_mu']\n",
    "logEresolution_neu =( df['logEreco'] - df['logE_nu'] ) / df['logE_nu']\n",
    "logEresolution_cor_neu = ( df['logEreco2'] - df['logE_nu'] ) / df['logE_nu']\n",
    "logbeta0_deg = np.log(df['jbeta0_deg'])"
   ]
  },
  {
   "cell_type": "code",
   "execution_count": 14,
   "metadata": {},
   "outputs": [],
   "source": [
    "anti_noise_cuts = df.loc[(df['jlik'] >50) & (df['GNhit'] > 20)]"
   ]
  },
  {
   "cell_type": "code",
   "execution_count": 15,
   "metadata": {},
   "outputs": [],
   "source": [
    "common_level = df.loc[(df['jlik']>40)& (df['Slen'] > 100) & (df['zenith'] > 80) & (df['logbeta0'] < -1.5)]"
   ]
  },
  {
   "cell_type": "code",
   "execution_count": 16,
   "metadata": {},
   "outputs": [],
   "source": [
    "first_precuts = df.loc[(df['jlik'] > 50) & (df['Slen'] > 100) & (df['zenith'] > 80) & (df['logbeta0'] < -1.5) & \\\n",
    "                        (df['logEreco'] > 2.7) & (df['TrLengthIT_2'] >100.0) & (df['num_triggered_doms'] >= 5)]"
   ]
  },
  {
   "cell_type": "code",
   "execution_count": 17,
   "metadata": {},
   "outputs": [],
   "source": [
    "up_cut = df.loc[df['zenith'] > 90]"
   ]
  },
  {
   "cell_type": "code",
   "execution_count": 18,
   "metadata": {},
   "outputs": [],
   "source": [
    "run_ids = np.sort(df['pseudo_runid'].unique())"
   ]
  },
  {
   "cell_type": "code",
   "execution_count": 19,
   "metadata": {},
   "outputs": [],
   "source": [
    "evts_3d_muon_to_run = [df.loc[(df['pseudo_runid']==i) & (df['flag_muon_3D']>0)].shape[0] for i in run_ids]\n",
    "evts_3d_shower_to_run = [df.loc[(df['pseudo_runid']==i) & (df['flag_shower_3D']>0)].shape[0] for i in run_ids]\n",
    "evts_mx_shower_to_run = [df.loc[(df['pseudo_runid']==i) & (df['flag_shower_MX']>0)].shape[0] for i in run_ids]\n",
    "reco_events_to_run = [df.loc[(df['pseudo_runid']==i)].shape[0] for i in run_ids]"
   ]
  },
  {
   "cell_type": "code",
   "execution_count": 20,
   "metadata": {},
   "outputs": [],
   "source": [
    "up_evts_3d_muon_to_run = [up_cut.loc[(up_cut['pseudo_runid']==i) & (up_cut['flag_muon_3D']>0)].shape[0] for i in run_ids]\n",
    "up_evts_3d_shower_to_run = [up_cut.loc[(up_cut['pseudo_runid']==i) & (up_cut['flag_shower_3D']>0)].shape[0] for i in run_ids]\n",
    "up_evts_mx_shower_to_run = [up_cut.loc[(up_cut['pseudo_runid']==i) & (up_cut['flag_shower_MX']>0)].shape[0] for i in run_ids]\n",
    "up_reco_events_to_run = [up_cut.loc[(up_cut['pseudo_runid']==i)].shape[0] for i in run_ids]"
   ]
  },
  {
   "cell_type": "code",
   "execution_count": 21,
   "metadata": {},
   "outputs": [],
   "source": [
    "c_evts_3d_muon_to_run = [anti_noise_cuts.loc[(anti_noise_cuts['pseudo_runid']==i) & (anti_noise_cuts['flag_muon_3D']>0)].shape[0] for i in run_ids]\n",
    "c_evts_3d_shower_to_run = [anti_noise_cuts.loc[(anti_noise_cuts['pseudo_runid']==i) & (anti_noise_cuts['flag_shower_3D']>0)].shape[0] for i in run_ids]\n",
    "c_evts_mx_shower_to_run = [anti_noise_cuts.loc[(anti_noise_cuts['pseudo_runid']==i) & (anti_noise_cuts['flag_shower_MX']>0)].shape[0] for i in run_ids]\n",
    "c_reco_events_to_run = [anti_noise_cuts.loc[(anti_noise_cuts['pseudo_runid']==i)].shape[0] for i in run_ids]"
   ]
  },
  {
   "cell_type": "code",
   "execution_count": 114,
   "metadata": {},
   "outputs": [],
   "source": [
    "#up_anti_noise_cuts = pd.concat([up_cut, anti_noise_cuts], axis=1, join='inner')"
   ]
  },
  {
   "cell_type": "code",
   "execution_count": 22,
   "metadata": {},
   "outputs": [],
   "source": [
    "up_anti_noise_cuts = anti_noise_cuts.loc[list(set(up_cut.index).intersection(set(anti_noise_cuts.index)))]"
   ]
  },
  {
   "cell_type": "code",
   "execution_count": 23,
   "metadata": {},
   "outputs": [],
   "source": [
    "c_up_run_ids = np.sort(up_anti_noise_cuts['pseudo_runid'].unique())\n",
    "c_up_evts_3d_muon_to_run = [up_anti_noise_cuts.loc[(up_anti_noise_cuts['pseudo_runid']==i) & (up_anti_noise_cuts['flag_muon_3D']>0)].shape[0] for i in c_up_run_ids]\n",
    "c_up_evts_3d_shower_to_run = [up_anti_noise_cuts.loc[(up_anti_noise_cuts['pseudo_runid']==i) & (up_anti_noise_cuts['flag_shower_3D']>0)].shape[0] for i in c_up_run_ids]\n",
    "c_up_evts_mx_shower_to_run = [up_anti_noise_cuts.loc[(up_anti_noise_cuts['pseudo_runid']==i) & (up_anti_noise_cuts['flag_shower_MX']>0)].shape[0] for i in c_up_run_ids]\n",
    "c_up_reco_events_to_run = [up_anti_noise_cuts.loc[(up_anti_noise_cuts['pseudo_runid']==i)].shape[0] for i in c_up_run_ids]"
   ]
  },
  {
   "cell_type": "code",
   "execution_count": 24,
   "metadata": {},
   "outputs": [],
   "source": [
    "first_evts_3d_muon_to_run = [first_precuts.loc[(first_precuts['pseudo_runid']==i) & (first_precuts['flag_muon_3D']>0)].shape[0] for i in run_ids]\n",
    "first_evts_3d_shower_to_run = [first_precuts.loc[(first_precuts['pseudo_runid']==i) & (first_precuts['flag_shower_3D']>0)].shape[0] for i in run_ids]\n",
    "first_evts_mx_shower_to_run = [first_precuts.loc[(first_precuts['pseudo_runid']==i) & (first_precuts['flag_shower_MX']>0)].shape[0] for i in run_ids]\n",
    "first_reco_events_to_run = [first_precuts.loc[(first_precuts['pseudo_runid']==i)].shape[0] for i in run_ids]"
   ]
  },
  {
   "cell_type": "code",
   "execution_count": 25,
   "metadata": {},
   "outputs": [],
   "source": [
    "first_up_cuts = first_precuts.loc[list(set(up_cut.index).intersection(set(first_precuts.index)))]"
   ]
  },
  {
   "cell_type": "code",
   "execution_count": 26,
   "metadata": {},
   "outputs": [],
   "source": [
    "first_up_run_ids = np.sort(first_up_cuts['pseudo_runid'].unique())\n",
    "first_up_evts_3d_muon_to_run = [first_up_cuts.loc[(first_up_cuts['pseudo_runid']==i) & (first_up_cuts['flag_muon_3D']>0)].shape[0] for i in first_up_run_ids]\n",
    "first_up_evts_3d_shower_to_run = [first_up_cuts.loc[(first_up_cuts['pseudo_runid']==i) & (first_up_cuts['flag_shower_3D']>0)].shape[0] for i in first_up_run_ids]\n",
    "first_up_evts_mx_shower_to_run = [first_up_cuts.loc[(first_up_cuts['pseudo_runid']==i) & (first_up_cuts['flag_shower_MX']>0)].shape[0] for i in first_up_run_ids]\n",
    "first_up_reco_events_to_run = [first_up_cuts.loc[(first_up_cuts['pseudo_runid']==i)].shape[0] for i in first_up_run_ids]"
   ]
  },
  {
   "cell_type": "code",
   "execution_count": 29,
   "metadata": {},
   "outputs": [],
   "source": [
    "the_w2 = w3ice / icecube_flux_diff2019(df['E_nu'])\n",
    "new_w3ice = the_w2 * icecube_flux_diff2021(df['E_nu'])\n",
    "#double w3 = 1.0\n",
    "w3 = new_w3ice"
   ]
  },
  {
   "cell_type": "code",
   "execution_count": 41,
   "metadata": {},
   "outputs": [
    {
     "data": {
      "text/plain": [
       "array([76061., 76793., 74917., 73082., 71757., 70097., 68037., 65650.,\n",
       "       63285., 61338., 58675., 56576., 54823., 53200., 50818., 49206.,\n",
       "       47949., 46392., 45420., 44602., 43378., 42765., 42407., 40507.,\n",
       "       40130., 38806., 37942., 36986., 36166., 35032., 33741., 32940.,\n",
       "       32243., 31529., 30622., 30689., 30779., 31162., 31143., 31460.,\n",
       "       31703., 31723., 32100., 32428., 32934., 33289., 33689., 35900.,\n",
       "       38438., 43429., 44912., 40115., 38011., 36709., 36550., 36430.,\n",
       "       35868., 35173., 34557., 33916., 33520., 32939., 31864., 31295.,\n",
       "       30395., 29605., 29532., 29532., 29488., 29494., 29718., 29738.,\n",
       "       29775., 29700., 29384., 29021., 29276., 28797., 28721., 28392.,\n",
       "       28310., 28606., 28022., 28102., 27829., 27907., 28257., 28450.,\n",
       "       28497., 28940., 28866., 29436., 29203., 29298., 29718., 29450.,\n",
       "       29397., 29618., 29687., 28912.])"
      ]
     },
     "execution_count": 41,
     "metadata": {},
     "output_type": "execute_result"
    },
    {
     "data": {
      "image/png": "[encoded data removed]",
      "text/plain": [
       "<Figure size 640x480 with 1 Axes>"
      ]
     },
     "metadata": {},
     "output_type": "display_data"
    }
   ],
   "source": [
    "plt.hist(df['cos_zen'].to_numpy(), bins=100)[0]"
   ]
  },
  {
   "cell_type": "code",
   "execution_count": null,
   "metadata": {},
   "outputs": [],
   "source": [
    "#TH1D CosZen (\"CosZen\",\"; Cos(reco_zenith)\",100,-1,1)\n",
    "#file = ROOT.TFile(\"demo_root_file.root\", \"RECREATE\")\n",
    "with uproot.recreate(\"demo_root_file.root\") as file:\n",
    "    #hist = bh.Histogram(bh.axis.Regular(100, -1, 1))\n",
    "    #hist.fill(df['cos_zen'].to_numpy() , weight = w3)\n",
    "    #file['CosZen'] = hist.to_numpy()\n",
    "    file['CosZen'] = plt.hist(df['cos_zen'].to_numpy(), weights = w3)[0]\n",
    "\n",
    "    hist = bh.Histogram(bh.axis.Regular(700, -100, 600))\n",
    "    hist.fill(df['jlik'].to_numpy(), weight = w3)\n",
    "    file['Lik'] = hist.to_numpy()\n",
    "\n",
    "    hist = bh.Histogram(bh.axis.Regular(400, -4, 0))\n",
    "    hist.fill(df['logbeta0'].to_numpy(), weight = w3)\n",
    "    file['LogBeta0'] = hist.to_numpy()\n",
    "\n",
    "    hist = bh.Histogram(bh.axis.Regular(600, -4, 2))\n",
    "    hist.fill(df['jbeta0_deg'].to_numpy(), weight = w3)\n",
    "    file['Beta0_deg'] = hist.to_numpy()\n",
    "    \n",
    "    hist = bh.Histogram(bh.axis.Regular(200, 0, 200))\n",
    "    hist.fill(df['num_triggered_doms'].to_numpy(), weight = w3)\n",
    "    file['DOMs'] = hist.to_numpy()\n",
    "#file.WriteObject(hist, \"CosZen\")"
   ]
  },
  {
   "cell_type": "code",
   "execution_count": null,
   "metadata": {},
   "outputs": [],
   "source": [
    "np.histogram(df['cos_zen'].to_numpy(),100, weights = w3)\n"
   ]
  },
  {
   "cell_type": "code",
   "execution_count": 30,
   "metadata": {},
   "outputs": [
    {
     "data": {
      "text/plain": [
       "(array([-76053393.89998272, -76785320.69998708, -74909508.2999759 ,\n",
       "        -73074691.79996496, -71749824.29995707, -70089990.29994717,\n",
       "        -68030196.2999349 , -65643434.99993159, -63278671.49993511,\n",
       "        -61332866.09993801, -58668132.59994198, -56570342.39994511,\n",
       "        -54817517.69994772, -53195679.89995014, -50811918.29995369,\n",
       "        -49202079.29995609, -47945204.99995796, -46385360.99996029,\n",
       "        -45417457.79996173, -44595539.99996296, -43373662.19996478,\n",
       "        -42760723.49996569, -42402759.29996622, -40502949.29996905,\n",
       "        -40125986.99996962, -38802119.39997159, -37938205.79997288,\n",
       "        -36983301.2999743 , -36161383.49997552, -35028496.79997721,\n",
       "        -33737625.89997914, -32936705.99998033, -32239775.69998137,\n",
       "        -31527846.89998243, -30616937.99998379, -30686930.99998368,\n",
       "        -30774922.19998355, -31158883.79998298, -31141885.49998301,\n",
       "        -31454854.19998254, -31699829.69998217, -31719827.69998214,\n",
       "        -32096789.99998158, -32425757.09998109, -32929706.69998034,\n",
       "        -33285671.09997981, -33686630.99997921, -35896409.99997592,\n",
       "        -38433156.29997214, -43424657.0999647 , -44907508.79996249,\n",
       "        -40111988.39996964, -38008198.79997277, -36706328.99997471,\n",
       "        -36543345.29997496, -36427356.89997513, -35865413.09997597,\n",
       "        -35169482.699977  , -34552544.39997792, -33912608.39997888,\n",
       "        -33516647.99997947, -32936705.99998033, -31859813.69998194,\n",
       "        -31291870.49998278, -30392960.39998412, -29601039.5999853 ,\n",
       "        -29529046.79998541, -29528046.89998541, -29486051.09998547,\n",
       "        -29492050.49998546, -29716028.09998513, -29732026.49998511,\n",
       "        -29773022.39998505, -29698029.89998516, -29380061.69998563,\n",
       "        -29019097.79998617, -29273072.39998579, -28794120.2999865 ,\n",
       "        -28718127.89998662, -28387160.99998711, -28310168.69998723,\n",
       "        -28601139.59998679, -28021197.59998766, -28098189.89998754,\n",
       "        -27825217.19998795, -27904209.29998783, -28255174.19998731,\n",
       "        -28449154.79998702, -28491150.59998696, -28936106.09998629,\n",
       "        -28864113.2999864 , -29435056.19998555, -29199079.7999859 ,\n",
       "        -29297069.99998575, -29711028.59998514, -29448054.89998553,\n",
       "        -29396060.09998561, -29613038.39998528, -29684031.29998518,\n",
       "        -28908108.89998633]),\n",
       " array([-1.  , -0.98, -0.96, -0.94, -0.92, -0.9 , -0.88, -0.86, -0.84,\n",
       "        -0.82, -0.8 , -0.78, -0.76, -0.74, -0.72, -0.7 , -0.68, -0.66,\n",
       "        -0.64, -0.62, -0.6 , -0.58, -0.56, -0.54, -0.52, -0.5 , -0.48,\n",
       "        -0.46, -0.44, -0.42, -0.4 , -0.38, -0.36, -0.34, -0.32, -0.3 ,\n",
       "        -0.28, -0.26, -0.24, -0.22, -0.2 , -0.18, -0.16, -0.14, -0.12,\n",
       "        -0.1 , -0.08, -0.06, -0.04, -0.02,  0.  ,  0.02,  0.04,  0.06,\n",
       "         0.08,  0.1 ,  0.12,  0.14,  0.16,  0.18,  0.2 ,  0.22,  0.24,\n",
       "         0.26,  0.28,  0.3 ,  0.32,  0.34,  0.36,  0.38,  0.4 ,  0.42,\n",
       "         0.44,  0.46,  0.48,  0.5 ,  0.52,  0.54,  0.56,  0.58,  0.6 ,\n",
       "         0.62,  0.64,  0.66,  0.68,  0.7 ,  0.72,  0.74,  0.76,  0.78,\n",
       "         0.8 ,  0.82,  0.84,  0.86,  0.88,  0.9 ,  0.92,  0.94,  0.96,\n",
       "         0.98,  1.  ]))"
      ]
     },
     "execution_count": 30,
     "metadata": {},
     "output_type": "execute_result"
    }
   ],
   "source": [
    "file_name4 = \"demo_root_file.root\" #\"histo_processed/histos_a-nu_Mu_CC_all_ARCA6_v6.4_gp_bp.root\"\n",
    "i4 = uproot.open(file_name4)\n",
    "i4['CosZen'].to_numpy()"
   ]
  },
  {
   "cell_type": "code",
   "execution_count": 33,
   "metadata": {},
   "outputs": [
    {
     "data": {
      "text/plain": [
       "(array([5.79076995e-09, 6.36891994e-09, 6.50197421e-09, 6.50639923e-09,\n",
       "        6.63357336e-09, 6.79441310e-09, 6.85649203e-09, 6.91152510e-09,\n",
       "        7.08429919e-09, 7.07887740e-09, 6.91176416e-09, 6.91516579e-09,\n",
       "        6.86340908e-09, 6.87664058e-09, 6.82233249e-09, 6.75955547e-09,\n",
       "        6.76661317e-09, 6.79009493e-09, 6.89023818e-09, 6.98644817e-09,\n",
       "        7.04613140e-09, 7.19462871e-09, 7.35294901e-09, 7.28675430e-09,\n",
       "        7.44623109e-09, 7.39447928e-09, 7.58635729e-09, 7.58166249e-09,\n",
       "        7.70705094e-09, 7.67695160e-09, 7.62644743e-09, 7.77255708e-09,\n",
       "        7.78710760e-09, 7.91964411e-09, 7.69190901e-09, 7.93696599e-09,\n",
       "        7.91307676e-09, 8.07916626e-09, 8.15396235e-09, 8.17137346e-09,\n",
       "        8.35123400e-09, 8.25166745e-09, 8.42281548e-09, 8.59122059e-09,\n",
       "        8.81198648e-09, 8.96708699e-09, 8.99974820e-09, 9.35575568e-09,\n",
       "        9.54677750e-09, 9.57272584e-09, 9.82227429e-09, 9.75970495e-09,\n",
       "        9.57736083e-09, 9.50407238e-09, 9.46588429e-09, 9.38545666e-09,\n",
       "        9.17077116e-09, 9.06842237e-09, 8.75051010e-09, 8.62966211e-09,\n",
       "        8.60871687e-09, 8.47027251e-09, 8.20684640e-09, 8.07345088e-09,\n",
       "        7.94267128e-09, 7.65264743e-09, 7.65293300e-09, 7.47448779e-09,\n",
       "        7.23357475e-09, 7.07844933e-09, 6.97867227e-09, 6.87126864e-09,\n",
       "        6.71237398e-09, 6.51613064e-09, 6.26092119e-09, 5.99203414e-09,\n",
       "        5.97934913e-09, 5.73052647e-09, 5.54073057e-09, 5.31274326e-09,\n",
       "        5.22543235e-09, 5.10714551e-09, 4.88175389e-09, 4.73118269e-09,\n",
       "        4.56111057e-09, 4.45572575e-09, 4.41879789e-09, 4.36504980e-09,\n",
       "        4.25132730e-09, 4.18411441e-09, 4.08058383e-09, 4.06582241e-09,\n",
       "        3.96367701e-09, 3.88850268e-09, 3.79051687e-09, 3.69932419e-09,\n",
       "        3.60116085e-09, 3.57036927e-09, 3.44049291e-09, 3.13011967e-09]),\n",
       " array([-1.  , -0.98, -0.96, -0.94, -0.92, -0.9 , -0.88, -0.86, -0.84,\n",
       "        -0.82, -0.8 , -0.78, -0.76, -0.74, -0.72, -0.7 , -0.68, -0.66,\n",
       "        -0.64, -0.62, -0.6 , -0.58, -0.56, -0.54, -0.52, -0.5 , -0.48,\n",
       "        -0.46, -0.44, -0.42, -0.4 , -0.38, -0.36, -0.34, -0.32, -0.3 ,\n",
       "        -0.28, -0.26, -0.24, -0.22, -0.2 , -0.18, -0.16, -0.14, -0.12,\n",
       "        -0.1 , -0.08, -0.06, -0.04, -0.02,  0.  ,  0.02,  0.04,  0.06,\n",
       "         0.08,  0.1 ,  0.12,  0.14,  0.16,  0.18,  0.2 ,  0.22,  0.24,\n",
       "         0.26,  0.28,  0.3 ,  0.32,  0.34,  0.36,  0.38,  0.4 ,  0.42,\n",
       "         0.44,  0.46,  0.48,  0.5 ,  0.52,  0.54,  0.56,  0.58,  0.6 ,\n",
       "         0.62,  0.64,  0.66,  0.68,  0.7 ,  0.72,  0.74,  0.76,  0.78,\n",
       "         0.8 ,  0.82,  0.84,  0.86,  0.88,  0.9 ,  0.92,  0.94,  0.96,\n",
       "         0.98,  1.  ]))"
      ]
     },
     "execution_count": 33,
     "metadata": {},
     "output_type": "execute_result"
    }
   ],
   "source": [
    "file_name5 = \"histo_processed/histos_a-nu_Mu_CC_all_ARCA6_v6.4_gp_bp.root\"\n",
    "i5 = uproot.open(file_name5)\n",
    "i5['CosZen'].to_numpy()"
   ]
  },
  {
   "cell_type": "code",
   "execution_count": null,
   "metadata": {},
   "outputs": [],
   "source": [
    "([i for i in i5['CosZen'].to_numpy()[0]])"
   ]
  },
  {
   "cell_type": "code",
   "execution_count": 28,
   "metadata": {},
   "outputs": [],
   "source": [
    "def icecube_flux_diff2019(E):\n",
    "    E_over_100_TeV = E / 100000.0\n",
    "    f = 1.44 * (10 ** -18) * (E_over_100_TeV ** -2.28);  # flux  from IceCube diffuse astrophysics numuCC analysis in GeV^-1 s^-1 cm^-2 sr^-1\n",
    "    return 0.5 * 10000.0 * f\n",
    "\n",
    "def icecube_flux_diff2021(E):\n",
    "  E_over_100_TeV = E / 100000.0\n",
    "  f = 1.44 * (10 ** -18) * (E_over_100_TeV ** -2.37);  # flux  from IceCube diffuse astrophysics numuCC analysis in GeV^-1 s^-1 cm^-2 sr^-1\n",
    "  return 0.5 * 10000.0 * f                                          # have flux in GeV^-1 s^-1 m^-2 sr^-1"
   ]
  }
 ],
 "metadata": {
  "kernelspec": {
   "display_name": "nccr",
   "language": "python",
   "name": "python3"
  },
  "language_info": {
   "codemirror_mode": {
    "name": "ipython",
    "version": 3
   },
   "file_extension": ".py",
   "mimetype": "text/x-python",
   "name": "python",
   "nbconvert_exporter": "python",
   "pygments_lexer": "ipython3",
   "version": "3.11.4 | packaged by conda-forge | (main, Jun 10 2023, 18:08:17) [GCC 12.2.0]"
  },
  "orig_nbformat": 4,
  "vscode": {
   "interpreter": {
    "hash": "ca0a07713c52eb446ea993ae7b4f31bbe84431b61f35cafdc4fbaa90af3f8796"
   }
  }
 },
 "nbformat": 4,
 "nbformat_minor": 2
}
